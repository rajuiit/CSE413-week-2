{
  "nbformat": 4,
  "nbformat_minor": 0,
  "metadata": {
    "colab": {
      "name": "week-2-class-practice-BasicsPython.ipynb",
      "provenance": [],
      "authorship_tag": "ABX9TyPqTUxjGP4IaT8tZUHs1w16",
      "include_colab_link": true
    },
    "kernelspec": {
      "name": "python3",
      "display_name": "Python 3"
    }
  },
  "cells": [
    {
      "cell_type": "markdown",
      "metadata": {
        "id": "view-in-github",
        "colab_type": "text"
      },
      "source": [
        "<a href=\"https://colab.research.google.com/github/rajuiit/CSE413-week-2/blob/master/week_2_class_practice_BasicsPython.ipynb\" target=\"_parent\"><img src=\"https://colab.research.google.com/assets/colab-badge.svg\" alt=\"Open In Colab\"/></a>"
      ]
    },
    {
      "cell_type": "markdown",
      "metadata": {
        "id": "YPh1g4qcH9QN",
        "colab_type": "text"
      },
      "source": [
        "# #Python Basics"
      ]
    },
    {
      "cell_type": "markdown",
      "metadata": {
        "id": "TpsxPwWeIIm9",
        "colab_type": "text"
      },
      "source": [
        "Create some variable in python"
      ]
    },
    {
      "cell_type": "code",
      "metadata": {
        "id": "jHt5YG8eIGiu",
        "colab_type": "code",
        "colab": {}
      },
      "source": [
        "x=4\n",
        "c=4.5"
      ],
      "execution_count": 0,
      "outputs": []
    },
    {
      "cell_type": "code",
      "metadata": {
        "id": "lsayew-7IAdI",
        "colab_type": "code",
        "colab": {
          "base_uri": "https://localhost:8080/",
          "height": 51
        },
        "outputId": "0afad14f-3c8c-4000-b816-dcf58a7cfff2"
      },
      "source": [
        "print(type(x))\n",
        "print(type(c))"
      ],
      "execution_count": 15,
      "outputs": [
        {
          "output_type": "stream",
          "text": [
            "<class 'int'>\n",
            "<class 'float'>\n"
          ],
          "name": "stdout"
        }
      ]
    },
    {
      "cell_type": "code",
      "metadata": {
        "id": "FwFfbhQ2IUTv",
        "colab_type": "code",
        "colab": {}
      },
      "source": [
        "y=4.2"
      ],
      "execution_count": 0,
      "outputs": []
    },
    {
      "cell_type": "code",
      "metadata": {
        "id": "lF9GvJChIcSY",
        "colab_type": "code",
        "colab": {
          "base_uri": "https://localhost:8080/",
          "height": 34
        },
        "outputId": "759354b5-64d5-4449-bbad-87b218728aba"
      },
      "source": [
        "type(y)"
      ],
      "execution_count": 4,
      "outputs": [
        {
          "output_type": "execute_result",
          "data": {
            "text/plain": [
              "float"
            ]
          },
          "metadata": {
            "tags": []
          },
          "execution_count": 4
        }
      ]
    },
    {
      "cell_type": "code",
      "metadata": {
        "id": "eHRfzP5ZId6A",
        "colab_type": "code",
        "colab": {}
      },
      "source": [
        "a=True"
      ],
      "execution_count": 0,
      "outputs": []
    },
    {
      "cell_type": "code",
      "metadata": {
        "id": "v2geGV9zIjGg",
        "colab_type": "code",
        "colab": {
          "base_uri": "https://localhost:8080/",
          "height": 34
        },
        "outputId": "1304a9b8-572e-4412-de50-32425d36de7e"
      },
      "source": [
        "type(a)"
      ],
      "execution_count": 9,
      "outputs": [
        {
          "output_type": "execute_result",
          "data": {
            "text/plain": [
              "bool"
            ]
          },
          "metadata": {
            "tags": []
          },
          "execution_count": 9
        }
      ]
    },
    {
      "cell_type": "code",
      "metadata": {
        "id": "z0xJQuyNIqtb",
        "colab_type": "code",
        "colab": {}
      },
      "source": [
        "s=\"This string\""
      ],
      "execution_count": 0,
      "outputs": []
    },
    {
      "cell_type": "code",
      "metadata": {
        "id": "jKQz-mk7IvGn",
        "colab_type": "code",
        "colab": {
          "base_uri": "https://localhost:8080/",
          "height": 34
        },
        "outputId": "89508413-86ef-4f80-ffd1-63079e44b532"
      },
      "source": [
        "type(s)"
      ],
      "execution_count": 11,
      "outputs": [
        {
          "output_type": "execute_result",
          "data": {
            "text/plain": [
              "str"
            ]
          },
          "metadata": {
            "tags": []
          },
          "execution_count": 11
        }
      ]
    },
    {
      "cell_type": "markdown",
      "metadata": {
        "id": "A9ZByPjJJhIL",
        "colab_type": "text"
      },
      "source": [
        "#Advanced python types"
      ]
    },
    {
      "cell_type": "code",
      "metadata": {
        "id": "Vc1ZnAvNIw2Q",
        "colab_type": "code",
        "colab": {}
      },
      "source": [
        "#list\n",
        "l=[4,5,7,8,8,3,4,5]"
      ],
      "execution_count": 0,
      "outputs": []
    },
    {
      "cell_type": "code",
      "metadata": {
        "id": "NFp4Bl9eJsZi",
        "colab_type": "code",
        "colab": {
          "base_uri": "https://localhost:8080/",
          "height": 34
        },
        "outputId": "d43c9261-8932-4b85-9a97-59ff477c35fc"
      },
      "source": [
        "print(l[2])"
      ],
      "execution_count": 37,
      "outputs": [
        {
          "output_type": "stream",
          "text": [
            "7\n"
          ],
          "name": "stdout"
        }
      ]
    },
    {
      "cell_type": "code",
      "metadata": {
        "id": "sVsHiXpbJt5v",
        "colab_type": "code",
        "colab": {}
      },
      "source": [
        "#dictionary\n",
        "d={\"foo\":1, \"too\":2}"
      ],
      "execution_count": 0,
      "outputs": []
    },
    {
      "cell_type": "code",
      "metadata": {
        "id": "VdUCpTrBKBNX",
        "colab_type": "code",
        "colab": {
          "base_uri": "https://localhost:8080/",
          "height": 34
        },
        "outputId": "39660fb5-6126-49a4-f774-1f661b37b758"
      },
      "source": [
        "print(d[\"foo\"])"
      ],
      "execution_count": 22,
      "outputs": [
        {
          "output_type": "stream",
          "text": [
            "1\n"
          ],
          "name": "stdout"
        }
      ]
    },
    {
      "cell_type": "code",
      "metadata": {
        "id": "9g5sdleWKPOv",
        "colab_type": "code",
        "colab": {
          "base_uri": "https://localhost:8080/",
          "height": 34
        },
        "outputId": "7a118162-1f0c-4793-bedc-f398f7007f70"
      },
      "source": [
        "print (\"Our integer value is %s. and Our float value is %s.\" % (x, c))"
      ],
      "execution_count": 26,
      "outputs": [
        {
          "output_type": "stream",
          "text": [
            "Our integer value is 4. and Our float value is 4.5.\n"
          ],
          "name": "stdout"
        }
      ]
    },
    {
      "cell_type": "code",
      "metadata": {
        "id": "_J-cEpz0LMLi",
        "colab_type": "code",
        "colab": {
          "base_uri": "https://localhost:8080/",
          "height": 34
        },
        "outputId": "bb01b882-7b4a-44ba-ac95-b312fc13fba8"
      },
      "source": [
        "print(x)"
      ],
      "execution_count": 27,
      "outputs": [
        {
          "output_type": "stream",
          "text": [
            "4\n"
          ],
          "name": "stdout"
        }
      ]
    },
    {
      "cell_type": "markdown",
      "metadata": {
        "id": "l2GOU_77LVna",
        "colab_type": "text"
      },
      "source": [
        "# Conditional Statement"
      ]
    },
    {
      "cell_type": "code",
      "metadata": {
        "id": "2jkphF62LNlf",
        "colab_type": "code",
        "colab": {
          "base_uri": "https://localhost:8080/",
          "height": 34
        },
        "outputId": "744916f7-fa60-4f6e-c603-fd7f136aaf27"
      },
      "source": [
        "x=1\n",
        "if x>2:\n",
        "  print(x)\n",
        "else:\n",
        "  print(\"x is less than 2\")\n"
      ],
      "execution_count": 29,
      "outputs": [
        {
          "output_type": "stream",
          "text": [
            "x is less than 2\n"
          ],
          "name": "stdout"
        }
      ]
    },
    {
      "cell_type": "code",
      "metadata": {
        "id": "gtmjhwKML9SB",
        "colab_type": "code",
        "colab": {
          "base_uri": "https://localhost:8080/",
          "height": 34
        },
        "outputId": "fcbc9e0f-dd42-48a9-9f1f-fff02587b2f0"
      },
      "source": [
        "i=5\n",
        "f=6\n",
        "if i ==1 and f > 4:\n",
        "   print(\"The value of i is 1 and f is greater then 4\")\n",
        "elif i > 4 and f>4:\n",
        "    print(\"i and f is greater than 4\")\n",
        "else:\n",
        "    print(\"Both i and f are less than 4\")"
      ],
      "execution_count": 35,
      "outputs": [
        {
          "output_type": "stream",
          "text": [
            "i and f is greater than 4\n"
          ],
          "name": "stdout"
        }
      ]
    },
    {
      "cell_type": "markdown",
      "metadata": {
        "id": "-ZKf6ke_Mo2d",
        "colab_type": "text"
      },
      "source": [
        "# Conditional Loop"
      ]
    },
    {
      "cell_type": "code",
      "metadata": {
        "id": "zvzkGHrLMMDK",
        "colab_type": "code",
        "colab": {
          "base_uri": "https://localhost:8080/",
          "height": 153
        },
        "outputId": "3afc11d2-208f-41d2-e0c9-f587e786bc1f"
      },
      "source": [
        "for ele in l:\n",
        "    print(ele)"
      ],
      "execution_count": 39,
      "outputs": [
        {
          "output_type": "stream",
          "text": [
            "4\n",
            "5\n",
            "7\n",
            "8\n",
            "8\n",
            "3\n",
            "4\n",
            "5\n"
          ],
          "name": "stdout"
        }
      ]
    },
    {
      "cell_type": "code",
      "metadata": {
        "id": "cxsAujaCNrFM",
        "colab_type": "code",
        "colab": {
          "base_uri": "https://localhost:8080/",
          "height": 187
        },
        "outputId": "36e18691-09f4-4618-f72a-6dc3544c8684"
      },
      "source": [
        "counter=0\n",
        "while counter < 10:\n",
        "    print(counter)\n",
        "    counter+=1"
      ],
      "execution_count": 40,
      "outputs": [
        {
          "output_type": "stream",
          "text": [
            "0\n",
            "1\n",
            "2\n",
            "3\n",
            "4\n",
            "5\n",
            "6\n",
            "7\n",
            "8\n",
            "9\n"
          ],
          "name": "stdout"
        }
      ]
    },
    {
      "cell_type": "markdown",
      "metadata": {
        "id": "ibFulPmuN6fm",
        "colab_type": "text"
      },
      "source": [
        "# Creating Function"
      ]
    },
    {
      "cell_type": "code",
      "metadata": {
        "id": "qHBywHCvN19W",
        "colab_type": "code",
        "colab": {
          "base_uri": "https://localhost:8080/",
          "height": 34
        },
        "outputId": "56b32ef8-0450-42f0-9e68-d01588c8e575"
      },
      "source": [
        "def add():\n",
        "  v=3\n",
        "  x=5\n",
        "  y=v+x;\n",
        "  return y\n",
        "\n",
        "\n",
        "add()"
      ],
      "execution_count": 43,
      "outputs": [
        {
          "output_type": "execute_result",
          "data": {
            "text/plain": [
              "8"
            ]
          },
          "metadata": {
            "tags": []
          },
          "execution_count": 43
        }
      ]
    },
    {
      "cell_type": "code",
      "metadata": {
        "id": "glNEwPyFOg-F",
        "colab_type": "code",
        "colab": {
          "base_uri": "https://localhost:8080/",
          "height": 34
        },
        "outputId": "acc2edda-9607-4088-c478-e7cadaa261aa"
      },
      "source": [
        "def add(x):\n",
        "    y=x+2;\n",
        "    return y\n",
        "\n",
        "i=5\n",
        "add(i)"
      ],
      "execution_count": 45,
      "outputs": [
        {
          "output_type": "execute_result",
          "data": {
            "text/plain": [
              "7"
            ]
          },
          "metadata": {
            "tags": []
          },
          "execution_count": 45
        }
      ]
    }
  ]
}